{
  "nbformat": 4,
  "nbformat_minor": 0,
  "metadata": {
    "colab": {
      "provenance": []
    },
    "kernelspec": {
      "name": "python3",
      "display_name": "Python 3"
    },
    "language_info": {
      "name": "python"
    }
  },
  "cells": [
    {
      "cell_type": "markdown",
      "source": [
        "1.   Dos motos viajan a diferentes velocidades (**vel1** y **vel2**) y están distanciados por una distancia **dis**. La moto que se encuentra detrás lleva una velocidad mayor que la primera. Se pide realizar un script en python que solicite al usuario la distancia entre las motos en km y las velocidades de las mismas y con ello devolver en cuanto tiempo la moto 2 alcanzará a la moto 1."
      ],
      "metadata": {
        "id": "yU4DEf3HBMru"
      }
    },
    {
      "cell_type": "code",
      "source": [
        "# Solicitar al usuario la distancia entre las motos y sus velocidades\n",
        "distancia = float(input(\"Ingresa la distancia entre las motos (en km): \"))\n",
        "vel1 = float(input(\"Ingresa la velocidad de la moto 1 (en km/h): \"))\n",
        "vel2 = float(input(\"Ingresa la velocidad de la moto 2 (en km/h): \"))\n",
        "\n",
        "# Verificar que la moto 2 sea más rápida que la moto 1\n",
        "if vel2 <= vel1:\n",
        "    print(\"La moto 2 no puede alcanzar a la moto 1 porque no es más rápida.\")\n",
        "else:\n",
        "    # Calcular el tiempo necesario para que la moto 2 alcance a la moto 1\n",
        "    tiempo_horas = distancia / (vel2 - vel1)\n",
        "    horas = int(tiempo_horas)  # Parte entera (horas)\n",
        "    minutos = int((tiempo_horas - horas) * 60)  # Parte decimal convertida a minutos\n",
        "\n",
        "    # Mostrar el resultado en horas y minutos\n",
        "    print(f\"La moto 2 alcanzará a la moto 1 en {horas} horas y {minutos} minutos.\")"
      ],
      "metadata": {
        "id": "nLCVu66ZDnpq",
        "colab": {
          "base_uri": "https://localhost:8080/"
        },
        "outputId": "60e344fb-0a4e-45be-a705-45f78b1040b5"
      },
      "execution_count": null,
      "outputs": [
        {
          "output_type": "stream",
          "name": "stdout",
          "text": [
            "Ingresa la distancia entre las motos (en km): 30\n",
            "Ingresa la velocidad de la moto 1 (en km/h): 100\n",
            "Ingresa la velocidad de la moto 2 (en km/h): 120\n",
            "La moto 2 alcanzará a la moto 1 en 1 horas y 30 minutos.\n"
          ]
        }
      ]
    },
    {
      "cell_type": "markdown",
      "source": [
        "2. El tutor de 2º ASIR esta organizando un viaje a Granada, y requiere determinar cuánto debe cobrar a cada alumne y cuánto debe pagar a la agencia de viajes. La forma de cobrar es la siguiente: si son 100 alumnos o más, el costo por cada alumno es de 65 euros; de 50 a 99 alumnos, el costo es de 70 euros, de 30 a 49, de 95 euros, y si son menos de 30, el costo de la guagua es de 4000 euros, sin importar el número de alumnos. Realice un script que permita determinar el pago a la compañía de guaguas y lo que debe pagar cada alumno por el viaje."
      ],
      "metadata": {
        "id": "bTX1b7swDmVd"
      }
    },
    {
      "cell_type": "code",
      "source": [
        "#Ingresamos el numero de alumnos\n",
        "alumnos = int(input(\"Ingrese la cantidad de alumnos: \"))\n",
        "#Comenzamos el condicional dependiendo del numero de alunmos, pues se pagará cierta cantidad de dinero.\n",
        "if alumnos >= 100:\n",
        "  print(f\"el pago de la agencia es de {alumnos*65} euros y cada alumno debe pagar 65 euros\")\n",
        "elif alumnos < 100 and alumnos >= 50:\n",
        "  print(f\"El pago a la agencia es de {alumnos*70} euros y cada alumno debe de pagar 70 euros\")\n",
        "elif alumnos < 50 and alumnos >=30:\n",
        "  print(f\"El pago a la agencia es de {alumnos*95} euros y cada alumno debe de pagar 95 euros\")\n",
        "else:\n",
        "  print(f\"El coste de la guagua es de 4000 euros y cada alumno debe pagar {int(4000/alumnos)} euros\")"
      ],
      "metadata": {
        "id": "1_orCltzEQhh",
        "colab": {
          "base_uri": "https://localhost:8080/"
        },
        "outputId": "5290a951-7a41-4847-dda1-2374e1172a65"
      },
      "execution_count": null,
      "outputs": [
        {
          "output_type": "stream",
          "name": "stdout",
          "text": [
            "Ingrese la cantidad de alumnos: 20\n",
            "El coste de la guagua es de 4000 euros y cada alumno debe pagar 200 euros\n"
          ]
        }
      ]
    },
    {
      "cell_type": "markdown",
      "source": [
        "3. Crea un script que permita adivinar un número. La aplicación genera un número aleatorio del 1 al 100. A continuación va pidiendo números y va respondiendo si el número a adivinar es mayor o menor que el introducido, además de los intentos que te quedan (tienes 10 intentos para acertarlo).  El programa termina cuando se acierta el número (además te dice en cuantos  intentos lo has acertado), si se llega al limite de intentos te muestra el  número que había generado."
      ],
      "metadata": {
        "id": "ksUYFjvcFhpq"
      }
    },
    {
      "cell_type": "code",
      "source": [
        "import random\n",
        "\n",
        "# Generamos el número aleatorio y establecemos los intentos en 0\n",
        "numero = random.randint(1, 100)\n",
        "intentos = 0\n",
        "while intentos < 10:\n",
        "    adivinanza = int(input(\"Adivina el número (entre 1 y 100): \"))\n",
        "    intentos += 1\n",
        "    if adivinanza == numero:\n",
        "        print(f\"¡Correcto! Lo adivinaste en {intentos} intentos.\")\n",
        "        break\n",
        "    elif adivinanza < numero:\n",
        "        print(\"El número que acabas de insertar es más bajo. Inténtalo de nuevo.\")\n",
        "    else:\n",
        "        print(\"El número que acabas de insertar es más alto. Inténtalo de nuevo.\")\n",
        "# Si el jugador no acierta en 10 intentos, muestra el número correcto\n",
        "if adivinanza != numero:\n",
        "    print(f\"Lo siento, has alcanzado el límite de intentos. El número era {numero}.\")\n",
        "\n"
      ],
      "metadata": {
        "id": "ePA_F-ggERZq",
        "colab": {
          "base_uri": "https://localhost:8080/"
        },
        "outputId": "30914c71-1a6f-40f6-d4a9-c16b012cf16f"
      },
      "execution_count": null,
      "outputs": [
        {
          "output_type": "stream",
          "name": "stdout",
          "text": [
            "Adivina el número (entre 1 y 100): 50\n",
            "El número que acabas de insertar es más bajo. Inténtalo de nuevo.\n",
            "Adivina el número (entre 1 y 100): 70\n",
            "El número que acabas de insertar es más alto. Inténtalo de nuevo.\n",
            "Adivina el número (entre 1 y 100): 60\n",
            "El número que acabas de insertar es más bajo. Inténtalo de nuevo.\n",
            "Adivina el número (entre 1 y 100): 65\n",
            "El número que acabas de insertar es más alto. Inténtalo de nuevo.\n",
            "Adivina el número (entre 1 y 100): 63\n",
            "El número que acabas de insertar es más alto. Inténtalo de nuevo.\n",
            "Adivina el número (entre 1 y 100): 62\n",
            "¡Correcto! Lo adivinaste en 6 intentos.\n"
          ]
        }
      ]
    },
    {
      "cell_type": "markdown",
      "source": [
        "4. Realizar un script que pida una String por teclado que contenga espacios y devuelva el número de palabrás que contenga"
      ],
      "metadata": {
        "id": "a8VUj4CxH5Lh"
      }
    },
    {
      "cell_type": "code",
      "source": [
        "#contar palabras en Python.\n",
        "oracion = input(\"Ingrese una oración: \")\n",
        "#Cuenta la longitud de ellas (Cuantas palabras hay).\n",
        "numero_de_palabras = len(oracion.split())\n",
        "\n",
        "print(\"Número de palabras en la oración:\", numero_de_palabras)"
      ],
      "metadata": {
        "id": "XjlclapwESaJ",
        "colab": {
          "base_uri": "https://localhost:8080/"
        },
        "outputId": "1a3df83e-9466-45a2-fa2c-336848420983"
      },
      "execution_count": null,
      "outputs": [
        {
          "output_type": "stream",
          "name": "stdout",
          "text": [
            "Ingrese una oración: pan con queso\n",
            "Número de palabras en la oración: 3\n"
          ]
        }
      ]
    },
    {
      "cell_type": "markdown",
      "source": [
        "5. Realiza un script que se le pasen 5 notas de un alumno por teclado (comprendidas entre 0 y 10). A continuación debe mostrar todas las notas, la nota media, la nota más alta que ha sacado y la menor.\n",
        "\n"
      ],
      "metadata": {
        "id": "hyvKdc75IXd5"
      }
    },
    {
      "cell_type": "code",
      "source": [
        "#Establecemos la array donde se almacenaran las notas\n",
        "notas = []\n",
        "#Pedimos 5 notas\n",
        "for i in range(5):\n",
        "  nota = float(input(f\"Ingrese la nota {i+1}: \"))\n",
        "  #Solo pueden ser notas de 0 a 10.\n",
        "  while nota < 0 or nota > 10:\n",
        "    nota - float(input(\"La nota debe estar entre 0 y 10. Ingrese una nota válida: \"))\n",
        "  notas.append(nota)\n",
        "\n",
        "#Realizamos las respuestas, mostrando la array de las notas almacenadas y realizando las operaciones media, maximo y mínimo.\n",
        "print(\"Las notas ingresadas son:\", notas)\n",
        "print(\"La nota media es:\",(sum(notas)/len(notas)))\n",
        "print(\"La nota mas alta es:\", max(notas))\n",
        "print(\"La nota mas baja es:\", min(notas))"
      ],
      "metadata": {
        "id": "nOgqvWORETFB",
        "colab": {
          "base_uri": "https://localhost:8080/"
        },
        "outputId": "6c6b373e-5e97-498d-f3e9-49ca95714088"
      },
      "execution_count": null,
      "outputs": [
        {
          "output_type": "stream",
          "name": "stdout",
          "text": [
            "Ingrese la nota 1: 5\n",
            "Ingrese la nota 2: 6\n",
            "Ingrese la nota 3: 7\n",
            "Ingrese la nota 4: 8\n",
            "Ingrese la nota 5: 9\n",
            "Las notas ingresadas son: [5.0, 6.0, 7.0, 8.0, 9.0]\n",
            "La nota media es: 7.0\n",
            "La nota mas alta es: 9.0\n",
            "La nota mas baja es: 5.0\n"
          ]
        }
      ]
    },
    {
      "cell_type": "markdown",
      "source": [
        "6. Realizar un script que cree una una tabla bidimensional de 5x5 y\n",
        "nombre 'diagonal'. La Componentes de la tabla en su diagonales deben de ser 1 y el resto 0. Se ha de mostrar el contenido de la tabla por pantalla."
      ],
      "metadata": {
        "id": "ZQxqS603I8S1"
      }
    },
    {
      "cell_type": "code",
      "source": [
        "# Create a 5x5 table with all elements initialized to 0\n",
        "diagonal = [[0 for _ in range(5)] for _ in range(5)]\n",
        "\n",
        "# Set diagonal elements to 1\n",
        "for i in range(5):\n",
        "    diagonal[i][i] = 1  # Main diagonal\n",
        "    diagonal[i][4 - i] = 1  # Anti-diagonal (other diagonal)\n",
        "\n",
        "# Display the table\n",
        "for row in diagonal:\n",
        "    print(row)"
      ],
      "metadata": {
        "id": "b1tXQaS0ETrp",
        "colab": {
          "base_uri": "https://localhost:8080/"
        },
        "outputId": "4e0b0ae7-3169-4b09-d029-799101b16163"
      },
      "execution_count": null,
      "outputs": [
        {
          "output_type": "stream",
          "name": "stdout",
          "text": [
            "[1, 0, 0, 0, 1]\n",
            "[0, 1, 0, 1, 0]\n",
            "[0, 0, 1, 0, 0]\n",
            "[0, 1, 0, 1, 0]\n",
            "[1, 0, 0, 0, 1]\n"
          ]
        }
      ]
    },
    {
      "cell_type": "markdown",
      "source": [
        "7. Crea un script que pida un número y cree un diccionario cuyas claves sean desde el número 1 hasta el número indicado, y los valores sean los cuadrados de las claves.\n",
        "\n"
      ],
      "metadata": {
        "id": "Ah0c0PB1Nw_d"
      }
    },
    {
      "cell_type": "code",
      "source": [
        "# Escribe un programa python que pida un número por teclado y que cree un diccionario cuyas\n",
        "# # claves sean desde el número 1 hasta el número indicado, y los valores sean los cuadrados de las claves.\n",
        "\n",
        "numero = int(input(\"Dime un número:\"))\n",
        "cuadrados = {}\n",
        "\n",
        "for num in range(1,numero+1):\n",
        "    cuadrados[num] = num ** 2\n",
        "for num, valor in cuadrados.items():\n",
        "    print(\"%d -> %d\" % (num,valor))"
      ],
      "metadata": {
        "id": "OWcoMYqYEUez",
        "colab": {
          "base_uri": "https://localhost:8080/"
        },
        "outputId": "5c56a237-840e-4f45-b6a5-726a625746de"
      },
      "execution_count": null,
      "outputs": [
        {
          "output_type": "stream",
          "name": "stdout",
          "text": [
            "Dime un número:5\n",
            "1 -> 1\n",
            "2 -> 4\n",
            "3 -> 9\n",
            "4 -> 16\n",
            "5 -> 25\n"
          ]
        }
      ]
    },
    {
      "cell_type": "markdown",
      "source": [
        "8. Crea un script de una agenda en la que se guardan nombres y números de teléfono. En la agenda existirá un menú con las siguientes opciones:\n",
        " * **Añadir/modificar**: Nos pide un nombre. Si el nombre se encuentra en la agenda, debe mostrar el teléfono y, opcionalmente, permitir modificarlo si no es correcto. Si el nombre no se encuentra, debe permitir ingresar el teléfono correspondiente.\n",
        " * **Buscar**: Nos pide una cadena de caracteres, y nos muestras todos los contactos cuyos nombres comiencen por dicha cadena.\n",
        " * **Borrar**: Nos pide un nombre y si existe nos preguntará si queremos borrarlo de la agenda.\n",
        " * **Listar**: Nos muestra todos los contactos de la agenda.\n",
        "\n",
        "  Implementar el script con un diccionario."
      ],
      "metadata": {
        "id": "6vqpqY3DJ88o"
      }
    },
    {
      "cell_type": "code",
      "source": [
        "# Declaramos un diccionario llamado agenda\n",
        "agenda = {}\n",
        "\n",
        "# Inicializamos la variable opcion antes del bucle\n",
        "opcion = -1\n",
        "\n",
        "# Abrimos el menú\n",
        "while opcion != 5:\n",
        "    print(\"\\nMenú de la agenda:\")\n",
        "    print(\"1. Añadir/modificar\")\n",
        "    print(\"2. Buscar\")\n",
        "    print(\"3. Borrar\")\n",
        "    print(\"4. Listar\")\n",
        "    print(\"5. Salir\")\n",
        "\n",
        "    # Pedimos una opción al usuario\n",
        "    opcion = int(input(\"Dime opción: \"))\n",
        "\n",
        "    if opcion == 1:\n",
        "        nombre = input(\"Nombre del contacto: \")\n",
        "        if nombre in agenda:\n",
        "            print(f\"{nombre} ya existe, su número de teléfono es {agenda[nombre]}\")\n",
        "            opcion_modificar = input(\"Pulsa 's' si quieres modificarlo. Otra tecla para continuar: \")\n",
        "            if opcion_modificar.lower() == \"s\":\n",
        "                numero = input(\"Dame el nuevo número de teléfono: \")\n",
        "                agenda[nombre] = numero\n",
        "        else:\n",
        "            numero = input(\"Dame el número de teléfono: \")\n",
        "            agenda[nombre] = numero\n",
        "\n",
        "    elif opcion == 2:\n",
        "        cadena = input(\"Nombre del contacto a buscar: \")\n",
        "        encontrado = False\n",
        "        for nombre, numero in agenda.items():\n",
        "            if nombre.startswith(cadena):\n",
        "                print(f\"El número de teléfono de {nombre} es {numero}\")\n",
        "                encontrado = True\n",
        "        if not encontrado:\n",
        "            print(\"No se encontró ningún contacto con ese nombre.\")\n",
        "\n",
        "    elif opcion == 3:\n",
        "        nombre = input(\"Nombre del contacto para borrar: \")\n",
        "        if nombre in agenda:\n",
        "            opcion_borrar = input(\"Pulsa 's' si quieres borrarlo. Otra tecla para continuar: \")\n",
        "            if opcion_borrar.lower() == \"s\":\n",
        "                del agenda[nombre]\n",
        "                print(f\"Contacto {nombre} eliminado.\")\n",
        "        else:\n",
        "            print(\"No existe el contacto.\")\n",
        "\n",
        "    elif opcion == 4:\n",
        "        if agenda:\n",
        "            print(\"\\nLista de contactos:\")\n",
        "            for nombre, numero in agenda.items():\n",
        "                print(f\"{nombre} -> {numero}\")\n",
        "        else:\n",
        "            print(\"La agenda está vacía.\")\n",
        "\n",
        "    elif opcion == 5:\n",
        "        print(\"Saliendo del programa...\")\n",
        "\n",
        "    else:\n",
        "        print(\"Opción incorrecta. Inténtalo de nuevo.\")\n"
      ],
      "metadata": {
        "id": "GexEhTmSEVT4",
        "colab": {
          "base_uri": "https://localhost:8080/"
        },
        "outputId": "09277816-f7f7-475a-ea35-b821c2f33609"
      },
      "execution_count": null,
      "outputs": [
        {
          "output_type": "stream",
          "name": "stdout",
          "text": [
            "\n",
            "Menú de la agenda:\n",
            "1. Añadir/modificar\n",
            "2. Buscar\n",
            "3. Borrar\n",
            "4. Listar\n",
            "5. Salir\n",
            "Dime opción: 1\n",
            "Nombre del contacto: pepe\n",
            "Dame el número de teléfono: 1234\n",
            "\n",
            "Menú de la agenda:\n",
            "1. Añadir/modificar\n",
            "2. Buscar\n",
            "3. Borrar\n",
            "4. Listar\n",
            "5. Salir\n",
            "Dime opción: 2\n",
            "Nombre del contacto a buscar: pe\n",
            "El número de teléfono de pepe es 1234\n",
            "\n",
            "Menú de la agenda:\n",
            "1. Añadir/modificar\n",
            "2. Buscar\n",
            "3. Borrar\n",
            "4. Listar\n",
            "5. Salir\n",
            "Dime opción: 4\n",
            "\n",
            "Lista de contactos:\n",
            "pepe -> 1234\n",
            "\n",
            "Menú de la agenda:\n",
            "1. Añadir/modificar\n",
            "2. Buscar\n",
            "3. Borrar\n",
            "4. Listar\n",
            "5. Salir\n",
            "Dime opción: 5\n",
            "Saliendo del programa...\n"
          ]
        }
      ]
    },
    {
      "cell_type": "markdown",
      "source": [
        "9. Crear un script que al introducir una fecha nos diga a que día juliano corresponde. El día juliano correspondiente a una fecha es un número entero que indica los días que han transcurrido desde el 1 de enero.Para ello debes de hacer las siguientes funciones:\n",
        " * **LeerFecha**: Lee por teclado el día, mes y el año.\n",
        " * **DiasDelMes**: Recibe un mes y un año y devuelve el número de días\n",
        " * **EsBisiesto**: Recibido un año nos dice si es bisiesto o no.\n",
        " * **Calcular_Dia_Juliano**: Recibe una fecha y nos devuelve el día juliano."
      ],
      "metadata": {
        "id": "-PHluINDPCH5"
      }
    },
    {
      "cell_type": "code",
      "source": [
        "from datetime import datetime\n",
        "\n",
        "def fecha_a_dia_juliano(fecha):\n",
        "    # Convierte la fecha a un objeto datetime\n",
        "    fecha_obj = datetime.strptime(fecha, '%d-%m-%Y')\n",
        "\n",
        "    # Obtiene la fecha del 1 de enero del mismo año\n",
        "    inicio_anio = datetime(fecha_obj.year, 1, 1)\n",
        "\n",
        "    # Calcula la diferencia en días\n",
        "    dias_transcurridos = (fecha_obj - inicio_anio).days + 1\n",
        "\n",
        "    return dias_transcurridos\n",
        "\n",
        "# Pide al usuario que introduzca una fecha\n",
        "fecha_usuario = input(\"Introduce una fecha en formato DD-MM-YYYY: \")\n",
        "\n",
        "try:\n",
        "    # Intenta convertir la fecha a día juliano y muestra el resultado\n",
        "    dia_juliano = fecha_a_dia_juliano(fecha_usuario)\n",
        "    print(f\"El día juliano correspondiente a la fecha {fecha_usuario} es: {dia_juliano}\")\n",
        "except ValueError:\n",
        "    print(\"Error: El formato de la fecha es incorrecto. Por favor, utiliza el formato DD-MM-YYYY.\")"
      ],
      "metadata": {
        "id": "EbNdAbeBEV5g",
        "colab": {
          "base_uri": "https://localhost:8080/"
        },
        "outputId": "e954d29d-e56e-434b-cb19-3a05883981b8"
      },
      "execution_count": null,
      "outputs": [
        {
          "output_type": "stream",
          "name": "stdout",
          "text": [
            "Introduce una fecha en formato DD-MM-YYYY: 01-02-2025\n",
            "El día juliano correspondiente a la fecha 01-02-2025 es: 32\n"
          ]
        }
      ]
    },
    {
      "cell_type": "markdown",
      "source": [
        "\n",
        "10. Función CalcularMCD: Recibe dos números y devuelve el MCD utilizando el método de Euclides.\n",
        "El método de Euclides es el siguiente:\n",
        " * Se divide el número mayor entre el menor.\n",
        " * Si la división es exacta, el divisor es el MCD.\n",
        " * Si la división no es exacta, dividimos el divisor entre el resto obtenido y se continúa de esta forma hasta obtener una división exacta, siendo el último divisor el MCD.\n"
      ],
      "metadata": {
        "id": "xQCJ8l2QPU3m"
      }
    },
    {
      "cell_type": "code",
      "source": [
        "def calcular_mcd(a, b):\n",
        "    while b:\n",
        "        a, b = b, a % b\n",
        "    return a\n",
        "\n",
        "# Ejemplo de su funcionamiento\n",
        "numero1 = int(input(\"Ingrese el primer número: \"))\n",
        "numero2 = int(input(\"Ingrese el segundo número: \"))\n",
        "\n",
        "mcd = calcular_mcd(numero1, numero2)\n",
        "print(f\"El MCD de {numero1} y {numero2} es: {mcd}\")\n"
      ],
      "metadata": {
        "id": "KZWQBYhdEWow",
        "colab": {
          "base_uri": "https://localhost:8080/"
        },
        "outputId": "5dab7d1f-7e33-4a87-967a-3156f941ca21"
      },
      "execution_count": null,
      "outputs": [
        {
          "output_type": "stream",
          "name": "stdout",
          "text": [
            "Ingrese el primer número: 30\n",
            "Ingrese el segundo número: 100\n",
            "El MCD de 30 y 100 es: 10\n"
          ]
        }
      ]
    }
  ]
}